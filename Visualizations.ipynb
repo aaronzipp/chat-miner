{
 "cells": [
  {
   "cell_type": "markdown",
   "id": "343afcec",
   "metadata": {},
   "source": [
    "# Imports & Initializations"
   ]
  },
  {
   "cell_type": "code",
   "execution_count": null,
   "id": "1c55e833",
   "metadata": {},
   "outputs": [],
   "source": [
    "import datetime\n",
    "import pandas as pd\n",
    "import numpy as np\n",
    "import seaborn as sns\n",
    "import matplotlib.pyplot as plt\n",
    "import wa_parser\n",
    "\n",
    "FILEPATH = r'./chats/wa_kristin.txt'\n",
    "BACKGROUND_COLOR = '#f0efeb'\n",
    "LOOKBACK_WEEKS = 104\n",
    "MEDIA_FLAG = \"<Medien ausgeschlossen\"\n",
    "\n",
    "plt.rcParams[\"font.family\"] = ['Kristen ITC']\n",
    "plt.rcParams[\"figure.facecolor\"] = BACKGROUND_COLOR\n",
    "plt.rcParams[\"axes.facecolor\"] = BACKGROUND_COLOR\n",
    "plt.rcParams[\"axes.spines.top\"] = False\n",
    "plt.rcParams[\"axes.spines.right\"] = False\n",
    "plt.rcParams[\"axes.spines.left\"] = False\n",
    "plt.rcParams[\"axes.spines.bottom\"] = False"
   ]
  },
  {
   "cell_type": "markdown",
   "id": "8ebe2a17",
   "metadata": {
    "tags": []
   },
   "source": [
    "# Data Loading"
   ]
  },
  {
   "cell_type": "code",
   "execution_count": null,
   "id": "a4bf8bbf",
   "metadata": {},
   "outputs": [],
   "source": [
    "df = wa_parser.get_df_from_chatlog(FILEPATH, dateformat='dd.mm.yy', \\\n",
    "                        timeformat='24-hh:mm')\n",
    "df = df[df['datetime'] > df['datetime'].max() - pd.Timedelta(weeks=LOOKBACK_WEEKS)]\n",
    "df[\"hour\"] = df[\"datetime\"].dt.hour"
   ]
  },
  {
   "cell_type": "markdown",
   "id": "9213fa3e",
   "metadata": {},
   "source": [
    "# Visualizations"
   ]
  },
  {
   "cell_type": "markdown",
   "id": "2f4b9db4",
   "metadata": {
    "tags": []
   },
   "source": [
    "## Messages per Day"
   ]
  },
  {
   "cell_type": "code",
   "execution_count": null,
   "id": "6dd7a873",
   "metadata": {},
   "outputs": [],
   "source": [
    "df_daily_mess = df.groupby(by=df['datetime'].dt.date)['message'].count().reset_index()\n",
    "df_daily_mess[\"messsagecount_rm28\"] = df_daily_mess[\"message\"].rolling(28, min_periods=13, center=True).mean()\n",
    "df_daily_mess"
   ]
  },
  {
   "cell_type": "code",
   "execution_count": null,
   "id": "a8c8b988",
   "metadata": {},
   "outputs": [],
   "source": [
    "fig, ax = plt.subplots(figsize=(8,2.5))\n",
    "sns.lineplot(data=df_daily_mess, x='datetime', y='messsagecount_rm28', ax=ax, color='#e76f51', lw=2)\n",
    "ax.set_ylim(0,np.ceil(max(df_daily_mess['messsagecount_rm28'].values)/10)*10)\n",
    "start_date = df_daily_mess.datetime.iat[0]\n",
    "end_date = df_daily_mess.datetime.iat[-1]\n",
    "#ax.set_xlim([datetime.date(2019, 11, 1), datetime.date(2021, 12, 1)])\n",
    "ax.set_xlim([start_date, end_date])\n",
    "ax.tick_params(axis='x', rotation=45)\n",
    "ax.set_title(\"Messages per Day (28 Days Rolling Mean)\", fontdict={\"fontsize\": 15})\n",
    "ax.set_xlabel(None)\n",
    "ax.set_ylabel(None)\n",
    "plt.legend(frameon = False, bbox_to_anchor=(1.04,0.5), loc=\"center left\")\n",
    "plt.tight_layout()"
   ]
  },
  {
   "cell_type": "code",
   "execution_count": null,
   "id": "e5ffe5f0",
   "metadata": {
    "scrolled": true
   },
   "outputs": [],
   "source": [
    "df_daily_mess.datetime.iat[-1]"
   ]
  },
  {
   "cell_type": "markdown",
   "id": "65ea82b3",
   "metadata": {
    "tags": []
   },
   "source": [
    "## Messages per Daytime"
   ]
  },
  {
   "cell_type": "code",
   "execution_count": null,
   "id": "77c0cb14",
   "metadata": {},
   "outputs": [],
   "source": [
    "df_circle = df.groupby(by='hour')['message'].count().reset_index()\n",
    "\n",
    "time = df_circle['hour']\n",
    "count = df_circle['message']\n",
    "\n",
    "c = np.zeros(24)\n",
    "c[time] = count\n",
    "count = c\n",
    "\n",
    "f = plt.figure(figsize=(3.5, 3.5))\n",
    "ax = plt.subplot(111, projection=\"polar\")\n",
    "\n",
    "x = np.arange(0, 2 * np.pi, 2 * np.pi / len(count)) + np.pi / len(count)\n",
    "\n",
    "bars = ax.bar(x, count, width=2 * np.pi / len(count),\n",
    "              alpha=0.4, color='#e76f51', bottom=0)\n",
    "\n",
    "max_ind = np.argmax(count)\n",
    "ax.bar(x[max_ind],count[max_ind], bottom=0,\n",
    "       width=2 * np.pi / len(count), alpha=1, color='#e76f51')\n",
    "\n",
    "ax.bar(x, np.max(count) * np.ones(len(count)), width=2 * np.pi / len(count),\n",
    "    alpha=0.15, bottom=0, color='#cb997e', edgecolor=\"black\")\n",
    "\n",
    "ax.set_theta_direction(-1)\n",
    "ax.grid(False)\n",
    "ax.spines[\"polar\"].set_visible(False)\n",
    "ax.set_theta_offset(np.pi / 2)\n",
    "ax.set_xticks(np.linspace(0, 2 * np.pi, 24, endpoint=False))\n",
    "#ticks = [\"12 AM\", \"\", \"\", \"3 AM\", \"\", \"\", \"6 AM\", \"\", \"\", \"9 AM\",\n",
    "#         \"\", \"\", \"12 PM\", \"\", \"\", \"3 PM\", \"\", \"\", \"6 PM\", \"\", \"\",\n",
    "#         \"9 PM\", \"\", \"\"]\n",
    "ticks = [\"0\", \"\", \"\", \"3\", \"\", \"\", \"6\", \"\", \"\", \"9\",\n",
    "         \"\", \"\", \"12\", \"\", \"\", \"15\", \"\", \"\", \"18\", \"\", \"\",\n",
    "         \"21\", \"\", \"\"]\n",
    "ax.set_xticklabels(ticks)\n",
    "plt.setp(ax.get_yticklabels(), visible=False)\n",
    "plt.tight_layout()"
   ]
  },
  {
   "cell_type": "markdown",
   "id": "09c65682",
   "metadata": {
    "tags": []
   },
   "source": [
    "## WordCloud"
   ]
  },
  {
   "cell_type": "code",
   "execution_count": null,
   "id": "e418fcd7",
   "metadata": {},
   "outputs": [],
   "source": [
    "import os\n",
    "from os import path\n",
    "from wordcloud import WordCloud, STOPWORDS\n",
    "\n",
    "messages = [str.join(\"\", word.split(\":\")[1:]).split() for word in df[\"message\"].values if not MEDIA_FLAG in word]\n",
    "words = [word.lower() for sublist in messages for word in sublist]\n",
    "\n",
    "stopwords = STOPWORDS.update(['media', 'omitted', 'missed', 'voice', 'call', 'http', 'https'])\n",
    "\n",
    "wordcloud = WordCloud(stopwords=stopwords, max_font_size=60, width=500, height=250,\n",
    "                      background_color='#f0efeb', colormap='viridis', min_word_length=2,\n",
    "                      min_font_size=10).generate(' '.join(words))\n",
    "plt.figure()\n",
    "plt.imshow(wordcloud, interpolation=\"bilinear\")\n",
    "plt.axis(\"off\")\n",
    "plt.tight_layout()"
   ]
  },
  {
   "cell_type": "code",
   "execution_count": null,
   "id": "0f3b5cb0",
   "metadata": {},
   "outputs": [],
   "source": [
    "words"
   ]
  },
  {
   "cell_type": "code",
   "execution_count": null,
   "id": "64fab00e",
   "metadata": {},
   "outputs": [],
   "source": [
    "import regex\n",
    "from emoji import UNICODE_EMOJI\n",
    "from collections import Counter\n",
    "\n",
    "def is_emoji(s):\n",
    "    return s in UNICODE_EMOJI['de']\n",
    "\n",
    "def split_count(text):\n",
    "    total_emoji = []\n",
    "    data = regex.findall(r'\\X',text)\n",
    "    flag = False\n",
    "    for word in data:\n",
    "        if any(is_emoji(char) for char in word):  \n",
    "            total_emoji += [word] # total_emoji is a list of all emojis\n",
    "\n",
    "    # Remove from the given text the emojis\n",
    "    for current in total_emoji:\n",
    "        text = text.replace(current, '') \n",
    "\n",
    "    return Counter(total_emoji)"
   ]
  },
  {
   "cell_type": "code",
   "execution_count": null,
   "id": "436ddde3",
   "metadata": {},
   "outputs": [],
   "source": [
    "emoji_list = [word for word in words if any(is_emoji(char) for char in word)]\n",
    "emoji_count = split_count(str.join(\" \", emoji_list))\n",
    "em = []\n",
    "for key, value in emoji_count.items():\n",
    "    for _ in range(value):\n",
    "        em.append(key)\n",
    "em\n",
    "replacements = {'🤦\\u200d♂️': '🤦', '🤦🏼\\u200d♀️': '🤦🏼', '💁🏼\\u200d♀️': '💁🏼', \\\n",
    "                '🤷\\u200d♂️': '🤷', '🤷🏼\\u200d♀️': '🤷🏼', \\\n",
    "                '🤫': '', '🥲': '', '🥴': '', '🥰': ''}\n",
    "emoji_text = \"\".join(em)\n",
    "for key, value in replacements.items():\n",
    "    emoji_text = emoji_text.replace(key, value)\n",
    "emoji_text"
   ]
  },
  {
   "cell_type": "code",
   "execution_count": null,
   "id": "a8ccec48",
   "metadata": {},
   "outputs": [],
   "source": [
    "'''wordcloud2 = WordCloud(stopwords=stopwords, max_font_size=60, width=500, height=250,\n",
    "                      background_color='#f0efeb', colormap='viridis', min_word_length=2,\n",
    "                      min_font_size=10).generate(' '.join(em))\n",
    "plt.figure()\n",
    "plt.imshow(wordcloud2, interpolation=\"bilinear\")\n",
    "plt.axis(\"off\")\n",
    "plt.tight_layo'''\n",
    "from wordcloud import WordCloud\n",
    "from collections import Counter\n",
    "import matplotlib.pyplot as plt\n",
    "import emojis\n",
    "\n",
    "class EmojiCloud:\n",
    "    def __init__(self, font_path='Symbola.otf'):\n",
    "        self.font_path = font_path\n",
    "        self.word_cloud = self.initialize_wordcloud()\n",
    "        self.emoji_probability = None\n",
    "\n",
    "        \n",
    "    def initialize_wordcloud(self):\n",
    "        return WordCloud(font_path=self.font_path,\n",
    "                               width=2000,\n",
    "                               height=1000,\n",
    "                               background_color='white',\n",
    "                               random_state=42,\n",
    "                               collocations=False)\n",
    "\n",
    "    \n",
    "    def color_func(self, word, font_size, position, orientation, random_state=None,\n",
    "                   **kwargs):\n",
    "        hue_saturation = '42, 88%'\n",
    "\n",
    "        current_emoji_probability = self.emoji_probability[word]\n",
    "        if current_emoji_probability >= 0.10:\n",
    "            opacity = 50\n",
    "        else:\n",
    "            opacity = 75 - current_emoji_probability/0.2 * 5\n",
    "        return f\"hsl({hue_saturation},{opacity}%)\"\n",
    "\n",
    "    def generate(self, text):\n",
    "        emoji_frequencies = Counter(emojis.iter(text))\n",
    "        total_count = sum(emoji_frequencies.values())\n",
    "        \n",
    "        self.emoji_probability = {emoji: count/total_count for emoji, count in emoji_frequencies.items()}\n",
    "        wc = self.word_cloud.generate_from_frequencies(emoji_frequencies)\n",
    "        \n",
    "        plt.figure(figsize=(20,10))\n",
    "        plt.imshow(wc.recolor(color_func=self.color_func, random_state=42))\n",
    "        plt.axis(\"off\")"
   ]
  },
  {
   "cell_type": "code",
   "execution_count": null,
   "id": "29232d3b",
   "metadata": {
    "scrolled": true
   },
   "outputs": [],
   "source": [
    "emoji_cloud = EmojiCloud(font_path='./symbola/EmojiOneColor.otf')\n",
    "emoji_cloud.generate(\"😘😋👅\")"
   ]
  },
  {
   "cell_type": "markdown",
   "id": "1ea45663",
   "metadata": {},
   "source": [
    "##### Statistics"
   ]
  },
  {
   "cell_type": "code",
   "execution_count": null,
   "id": "fa09e64c",
   "metadata": {},
   "outputs": [],
   "source": [
    "df[\"words\"].sum()"
   ]
  },
  {
   "cell_type": "code",
   "execution_count": null,
   "id": "cb982953",
   "metadata": {},
   "outputs": [],
   "source": [
    "df.count()"
   ]
  },
  {
   "cell_type": "code",
   "execution_count": null,
   "id": "a8930e4e",
   "metadata": {},
   "outputs": [],
   "source": [
    "messages = [word.split() for word in df[\"message\"].values]\n",
    "words = [word.lower() for sublist in messages for word in sublist]\n",
    "len(set(words))"
   ]
  },
  {
   "cell_type": "code",
   "execution_count": null,
   "id": "8c148490",
   "metadata": {},
   "outputs": [],
   "source": []
  }
 ],
 "metadata": {
  "kernelspec": {
   "display_name": "Python 3 (ipykernel)",
   "language": "python",
   "name": "python3"
  },
  "language_info": {
   "codemirror_mode": {
    "name": "ipython",
    "version": 3
   },
   "file_extension": ".py",
   "mimetype": "text/x-python",
   "name": "python",
   "nbconvert_exporter": "python",
   "pygments_lexer": "ipython3",
   "version": "3.9.6"
  },
  "toc-autonumbering": true
 },
 "nbformat": 4,
 "nbformat_minor": 5
}
