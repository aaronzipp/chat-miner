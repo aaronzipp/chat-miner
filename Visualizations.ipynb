{
 "cells": [
  {
   "cell_type": "markdown",
   "id": "8577d6be",
   "metadata": {},
   "source": [
    "# Imports"
   ]
  },
  {
   "cell_type": "code",
   "execution_count": null,
   "id": "4832400d",
   "metadata": {},
   "outputs": [],
   "source": [
    "import os\n",
    "import datetime\n",
    "import pandas as pd\n",
    "import numpy as np\n",
    "import seaborn as sns\n",
    "import matplotlib.pyplot as plt\n",
    "import spacy\n",
    "import wa_parser\n",
    "import sc_parser\n",
    "from os import path\n",
    "from wordcloud import WordCloud, STOPWORDS\n",
    "\n",
    "FILEPATH = r'./chats/chat.txt'\n",
    "BACKGROUND_COLOR = 'white'\n",
    "PRIMARY_COLOR = '#e76f51'\n",
    "LOOKBACK_WEEKS = 104\n",
    "ROLLING_INTERVAL = 14\n",
    "\n",
    "plt.rcParams[\"figure.facecolor\"] = BACKGROUND_COLOR\n",
    "plt.rcParams[\"axes.facecolor\"] = BACKGROUND_COLOR\n",
    "plt.rcParams[\"axes.spines.top\"] = False\n",
    "plt.rcParams[\"axes.spines.right\"] = False\n",
    "plt.rcParams[\"axes.spines.left\"] = False\n",
    "plt.rcParams[\"axes.spines.bottom\"] = False\n",
    "\n",
    "nlp = spacy.load('de_core_news_sm')"
   ]
  },
  {
   "cell_type": "markdown",
   "id": "790e1a47",
   "metadata": {
    "tags": []
   },
   "source": [
    "# Data Loading"
   ]
  },
  {
   "cell_type": "code",
   "execution_count": null,
   "id": "f2d972d8",
   "metadata": {},
   "outputs": [],
   "source": [
    "from visualizations_setup import DATEFORMAT, TIMEFORMAT\n",
    "\n",
    "df_wa = wa_parser.get_df_from_chatlog(FILEPATH, dateformat = DATEFORMAT, \\\n",
    "                        timeformat = TIMEFORMAT)\n",
    "df_wa"
   ]
  },
  {
   "cell_type": "code",
   "execution_count": null,
   "id": "172b198d",
   "metadata": {},
   "outputs": [],
   "source": [
    "df_sc = sc_parser.get_df_from_chatlog()\n",
    "df_sc"
   ]
  },
  {
   "cell_type": "code",
   "execution_count": null,
   "id": "8732b49b",
   "metadata": {},
   "outputs": [],
   "source": [
    "df = df_wa.append(df_sc, ignore_index = True)\n",
    "df"
   ]
  },
  {
   "cell_type": "markdown",
   "id": "a7e3f6a2",
   "metadata": {},
   "source": [
    "# Visualizations"
   ]
  },
  {
   "cell_type": "markdown",
   "id": "2f70d95c",
   "metadata": {
    "tags": []
   },
   "source": [
    "## Lineplot - Messages per Day"
   ]
  },
  {
   "cell_type": "code",
   "execution_count": null,
   "id": "dd22dbb7",
   "metadata": {},
   "outputs": [],
   "source": [
    "df_daily_mess = df.groupby(by = df['datetime'].dt.date)['message'].count().reset_index()\n",
    "df_daily_mess[\"messsagecount_rm\"] = df_daily_mess[\"message\"].rolling(ROLLING_INTERVAL, \n",
    "                                                                     min_periods = 3, center = True).mean()"
   ]
  },
  {
   "cell_type": "code",
   "execution_count": null,
   "id": "c02f7dd6",
   "metadata": {},
   "outputs": [],
   "source": [
    "fig, ax = plt.subplots(figsize = (8, 3.5))\n",
    "sns.lineplot(data = df_daily_mess, x = 'datetime', y = 'messsagecount_rm',\n",
    "             ax = ax, color = PRIMARY_COLOR, lw = 2)\n",
    "ax.set_ylim(0, np.ceil(max(df_daily_mess['messsagecount_rm'].values)))\n",
    "# ax.set_xlim([datetime.date(2019, 11, 1), datetime.date(2021, 12, 1)])\n",
    "ax.tick_params(axis = 'x', rotation = 45)\n",
    "ax.set_title(f\"Messages per Day ({ROLLING_INTERVAL} Days Rolling Mean)\", fontdict = {\"fontsize\": 15})\n",
    "ax.set_xlabel(None)\n",
    "ax.set_ylabel(None)\n",
    "#plt.legend(frameon = False, bbox_to_anchor = (1.04,0.5), loc = \"center left\")\n",
    "plt.tight_layout()"
   ]
  },
  {
   "cell_type": "markdown",
   "id": "86106d75",
   "metadata": {
    "tags": []
   },
   "source": [
    "## Sunburstchart - Messages per Daytime"
   ]
  },
  {
   "cell_type": "code",
   "execution_count": null,
   "id": "25754766",
   "metadata": {},
   "outputs": [],
   "source": [
    "df_circle = df.groupby(by = 'hour')['message'].count().reset_index()\n",
    "\n",
    "time = df_circle['hour']\n",
    "count = df_circle['message'].to_numpy()\n",
    "\n",
    "hours_in_day = 24\n",
    "circle_length = 2 * np.pi\n",
    "\n",
    "f = plt.figure(figsize = (8, 4))\n",
    "ax = plt.subplot(111, projection = \"polar\")\n",
    "\n",
    "x = np.arange(0, circle_length, circle_length / len(count)) + circle_length / (2 * len(count))\n",
    "\n",
    "bars = ax.bar(x, count, width = circle_length / len(count),\n",
    "              alpha = 0.4, color = PRIMARY_COLOR, bottom = 0)\n",
    "\n",
    "max_ind = np.argmax(count)\n",
    "ax.bar(x[max_ind],count[max_ind], bottom = 0,\n",
    "       width = 2 * np.pi / len(count), alpha = 1, color = PRIMARY_COLOR)\n",
    "\n",
    "ax.bar(x, np.max(count) * np.ones(len(count)), width = 2 * np.pi / len(count),\n",
    "    alpha = 0.15, bottom = 0, color = BACKGROUND_COLOR, edgecolor = \"black\")\n",
    "\n",
    "ax.set_theta_direction(-1)\n",
    "ax.grid(False)\n",
    "ax.spines[\"polar\"].set_visible(False)\n",
    "ax.set_theta_offset(np.pi / 2)\n",
    "ax.set_xticks(np.linspace(0, circle_length, hours_in_day, endpoint = False))\n",
    "ticks = [str(i) for i in range(hours_in_day)]\n",
    "ax.set_xticklabels(ticks)\n",
    "ax.set_title(\"Messages per Daytime\", fontdict = {\"fontsize\": 15})\n",
    "plt.setp(ax.get_yticklabels(), visible = False)\n",
    "plt.tight_layout()"
   ]
  },
  {
   "cell_type": "markdown",
   "id": "265e38bb",
   "metadata": {
    "tags": []
   },
   "source": [
    "## WordCloud"
   ]
  },
  {
   "cell_type": "code",
   "execution_count": null,
   "id": "cddeea7d",
   "metadata": {},
   "outputs": [],
   "source": [
    "from visualizations_setup import MEDIA_FLAG\n",
    "\n",
    "messages = [word.split() for word in df[\"message\"].values if not MEDIA_FLAG in word]\n",
    "words = [word.lower() for sublist in messages for word in sublist]\n",
    "\n",
    "stopwords = STOPWORDS.update(['media', 'omitted', 'missed', 'voice', 'call', 'http', 'https'])\n",
    "for word in ['media', 'omitted', 'missed', 'voice', 'call', 'http', 'https']:\n",
    "    nlp.Defaults.stop_words.add(word)"
   ]
  },
  {
   "cell_type": "code",
   "execution_count": null,
   "id": "c4b352ae",
   "metadata": {},
   "outputs": [],
   "source": [
    "def valid_token(token):\n",
    "    token_lemma = token.lemma_\n",
    "    is_link = token_lemma.startswith(\"https\") or token_lemma.startswith(\"http\")\n",
    "    return not (token.is_stop or token.is_punct or is_link)"
   ]
  },
  {
   "cell_type": "code",
   "execution_count": null,
   "id": "aa534318",
   "metadata": {},
   "outputs": [],
   "source": [
    "lemmatized_words = []\n",
    "tokens = nlp(\" \".join(words))\n",
    "lemmatized_words = [token.lemma_ for token in tokens if valid_token(token)]"
   ]
  },
  {
   "cell_type": "code",
   "execution_count": null,
   "id": "d6c26a6f",
   "metadata": {},
   "outputs": [],
   "source": [
    "wordcloud = WordCloud(stopwords = stopwords, max_font_size = 90, width = 800, height = 400,\n",
    "                      background_color = BACKGROUND_COLOR, colormap = 'autumn', min_word_length = 3,\n",
    "                      max_words = 400, min_font_size = 12).generate(' '.join(lemmatized_words))\n",
    "plt.figure(figsize = (8, 4))\n",
    "plt.imshow(wordcloud, interpolation = \"bilinear\")\n",
    "plt.axis(\"off\")\n",
    "plt.tight_layout()"
   ]
  },
  {
   "cell_type": "code",
   "execution_count": null,
   "id": "9dfabab8",
   "metadata": {},
   "outputs": [],
   "source": [
    "from mask import create_masked\n",
    "create_masked(\" \".join(lemmatized_words), \"wc_heart\", contour_width = 0, colormap = \"autumn\")"
   ]
  },
  {
   "cell_type": "code",
   "execution_count": null,
   "id": "436ddde3",
   "metadata": {},
   "outputs": [],
   "source": [
    "from visualizations_setup import is_emoji, split_count\n",
    "emoji_list = [word for word in words if any(is_emoji(char) for char in word)]\n",
    "emoji_count = split_count(str.join(\" \", emoji_list))\n",
    "em = []\n",
    "for key, value in emoji_count.items():\n",
    "    for _ in range(value):\n",
    "        em.append(key)\n",
    "em\n",
    "\n",
    "from visualizations_setup import replacements\n",
    "emoji_text = \" \".join(em)\n",
    "for key, value in replacements.items():\n",
    "    emoji_text = emoji_text.replace(key, value)"
   ]
  },
  {
   "cell_type": "code",
   "execution_count": null,
   "id": "29232d3b",
   "metadata": {
    "scrolled": true
   },
   "outputs": [],
   "source": [
    "from visualizations_setup import EmojiCloud, FONT_PATH\n",
    "emoji_cloud = EmojiCloud(font_path = FONT_PATH)\n",
    "emoji_cloud.generate(emoji_text)"
   ]
  },
  {
   "cell_type": "markdown",
   "id": "f7bcfdbb",
   "metadata": {},
   "source": [
    "# Statistics"
   ]
  },
  {
   "cell_type": "markdown",
   "id": "00259ed3-c531-49c2-9c88-703463162f4c",
   "metadata": {},
   "source": [
    "Total Words"
   ]
  },
  {
   "cell_type": "code",
   "execution_count": null,
   "id": "aa3422b0",
   "metadata": {},
   "outputs": [],
   "source": [
    "df[\"words\"].sum()"
   ]
  },
  {
   "cell_type": "markdown",
   "id": "d64fb532-cf81-470d-8206-d709695bc030",
   "metadata": {},
   "source": [
    "Total Messages"
   ]
  },
  {
   "cell_type": "code",
   "execution_count": null,
   "id": "ee6bac9f",
   "metadata": {},
   "outputs": [],
   "source": [
    "df.count()"
   ]
  },
  {
   "cell_type": "markdown",
   "id": "192e772c-407a-45d8-a12e-3325c1d4a561",
   "metadata": {},
   "source": [
    "Avg. Words per Message"
   ]
  },
  {
   "cell_type": "code",
   "execution_count": null,
   "id": "fb24e935-09a4-4cfd-b0a8-2b8f8d6df087",
   "metadata": {},
   "outputs": [],
   "source": [
    "df[\"words\"].sum() / df.count()"
   ]
  },
  {
   "cell_type": "markdown",
   "id": "c9d0e512-02b8-4716-974c-7bf03b088458",
   "metadata": {},
   "source": [
    "Unique Words"
   ]
  },
  {
   "cell_type": "code",
   "execution_count": null,
   "id": "581f3682",
   "metadata": {},
   "outputs": [],
   "source": [
    "messages = [word.split() for word in df[\"message\"].values]\n",
    "words = [word.lower() for sublist in messages for word in sublist]\n",
    "len(set(words))"
   ]
  }
 ],
 "metadata": {
  "kernelspec": {
   "display_name": "Python 3 (ipykernel)",
   "language": "python",
   "name": "python3"
  },
  "language_info": {
   "codemirror_mode": {
    "name": "ipython",
    "version": 3
   },
   "file_extension": ".py",
   "mimetype": "text/x-python",
   "name": "python",
   "nbconvert_exporter": "python",
   "pygments_lexer": "ipython3",
   "version": "3.9.6"
  },
  "toc-autonumbering": true
 },
 "nbformat": 4,
 "nbformat_minor": 5
}
